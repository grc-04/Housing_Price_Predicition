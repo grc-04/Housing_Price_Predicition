{
  "nbformat": 4,
  "nbformat_minor": 0,
  "metadata": {
    "colab": {
      "provenance": [],
      "mount_file_id": "1WZKXGqTzb4iWnuWORaYcAixHUcfinNkc",
      "authorship_tag": "ABX9TyNz292FJLRrmHqx96gz5qKt",
      "include_colab_link": true
    },
    "kernelspec": {
      "name": "python3",
      "display_name": "Python 3"
    },
    "language_info": {
      "name": "python"
    }
  },
  "cells": [
    {
      "cell_type": "markdown",
      "metadata": {
        "id": "view-in-github",
        "colab_type": "text"
      },
      "source": [
        "<a href=\"https://colab.research.google.com/github/grc-04/Housing_Price_Predicition/blob/main/HousePricePredictionModel.ipynb\" target=\"_parent\"><img src=\"https://colab.research.google.com/assets/colab-badge.svg\" alt=\"Open In Colab\"/></a>"
      ]
    },
    {
      "cell_type": "code",
      "source": [
        "#Mounting the Google Drive to import the CSV File"
      ],
      "metadata": {
        "id": "ZvBbYtpK69PL"
      },
      "execution_count": null,
      "outputs": []
    },
    {
      "cell_type": "code",
      "source": [
        "from google.colab import drive\n",
        "drive.mount('/content/drive')"
      ],
      "metadata": {
        "colab": {
          "base_uri": "https://localhost:8080/"
        },
        "id": "P2RHwVMgdPh4",
        "outputId": "46f142b8-5265-471c-9f07-df71068d686d"
      },
      "execution_count": 1,
      "outputs": [
        {
          "output_type": "stream",
          "name": "stdout",
          "text": [
            "Drive already mounted at /content/drive; to attempt to forcibly remount, call drive.mount(\"/content/drive\", force_remount=True).\n"
          ]
        }
      ]
    },
    {
      "cell_type": "code",
      "source": [
        "#Importing Machine Learning Libraries required in Preprocessing, Feature Engineering and Classification of data"
      ],
      "metadata": {
        "id": "tMnWIKM07C4V"
      },
      "execution_count": null,
      "outputs": []
    },
    {
      "cell_type": "code",
      "source": [
        "import pandas as pd\n",
        "import numpy as np\n",
        "import matplotlib as plt\n",
        "import seaborn as sns"
      ],
      "metadata": {
        "id": "zkfEcf5Ndn7W"
      },
      "execution_count": 26,
      "outputs": []
    },
    {
      "cell_type": "code",
      "source": [
        "%cd /content/drive/My Drive/Colab Notebooks/"
      ],
      "metadata": {
        "colab": {
          "base_uri": "https://localhost:8080/"
        },
        "id": "laZOkoGesokM",
        "outputId": "f79cd476-c3c8-4e30-d930-85a4ed08171f"
      },
      "execution_count": 6,
      "outputs": [
        {
          "output_type": "stream",
          "name": "stdout",
          "text": [
            "/content/drive/My Drive/Colab Notebooks\n"
          ]
        }
      ]
    },
    {
      "cell_type": "code",
      "source": [
        "data=pd.read_csv('housing.csv')"
      ],
      "metadata": {
        "id": "uJMe0Yv7d2Ny"
      },
      "execution_count": 7,
      "outputs": []
    },
    {
      "cell_type": "code",
      "source": [
        "data.info()"
      ],
      "metadata": {
        "id": "b49Iw1BeelID"
      },
      "execution_count": null,
      "outputs": []
    },
    {
      "cell_type": "code",
      "source": [
        "#As there are some null entries, we drop the rows having null values "
      ],
      "metadata": {
        "id": "Gz7L_mOp7O7z"
      },
      "execution_count": null,
      "outputs": []
    },
    {
      "cell_type": "code",
      "source": [
        "data.dropna(inplace=True)"
      ],
      "metadata": {
        "id": "TeMp7yoQhsMI"
      },
      "execution_count": 9,
      "outputs": []
    },
    {
      "cell_type": "code",
      "source": [
        "#Splitting the data into Train and test "
      ],
      "metadata": {
        "id": "2Mitsq1Q8QyD"
      },
      "execution_count": null,
      "outputs": []
    },
    {
      "cell_type": "code",
      "source": [
        "from sklearn.model_selection import train_test_split\n",
        "\n",
        "x=data.drop(['median_house_value'],axis=1)\n",
        "y=data['median_house_value']"
      ],
      "metadata": {
        "id": "bVOz7_gQh_x9"
      },
      "execution_count": 10,
      "outputs": []
    },
    {
      "cell_type": "code",
      "source": [
        "x_train, x_test, y_train, y_test = train_test_split(x,y,test_size=0.2)"
      ],
      "metadata": {
        "id": "77Mw7X6cirIJ"
      },
      "execution_count": 11,
      "outputs": []
    },
    {
      "cell_type": "code",
      "source": [
        "train_data=x_train.join(y_train)"
      ],
      "metadata": {
        "id": "eKI4mW3sjK6w"
      },
      "execution_count": 12,
      "outputs": []
    },
    {
      "cell_type": "code",
      "source": [
        "#Visualising Data using MatPlotLib"
      ],
      "metadata": {
        "id": "tnsPuJck-GHV"
      },
      "execution_count": null,
      "outputs": []
    },
    {
      "cell_type": "code",
      "source": [
        "train_data.hist(figsize=(15,8))"
      ],
      "metadata": {
        "id": "ne5Kle0VjtmQ",
        "colab": {
          "base_uri": "https://localhost:8080/",
          "height": 679
        },
        "outputId": "2107e320-eb26-43c0-ae60-9966afd1af1e"
      },
      "execution_count": 13,
      "outputs": [
        {
          "output_type": "execute_result",
          "data": {
            "text/plain": [
              "array([[<matplotlib.axes._subplots.AxesSubplot object at 0x7fc90580c820>,\n",
              "        <matplotlib.axes._subplots.AxesSubplot object at 0x7fc9057e6c70>,\n",
              "        <matplotlib.axes._subplots.AxesSubplot object at 0x7fc905796130>],\n",
              "       [<matplotlib.axes._subplots.AxesSubplot object at 0x7fc90574f4c0>,\n",
              "        <matplotlib.axes._subplots.AxesSubplot object at 0x7fc90577b8b0>,\n",
              "        <matplotlib.axes._subplots.AxesSubplot object at 0x7fc905727be0>],\n",
              "       [<matplotlib.axes._subplots.AxesSubplot object at 0x7fc905727cd0>,\n",
              "        <matplotlib.axes._subplots.AxesSubplot object at 0x7fc9056e3160>,\n",
              "        <matplotlib.axes._subplots.AxesSubplot object at 0x7fc90563d8e0>]],\n",
              "      dtype=object)"
            ]
          },
          "metadata": {},
          "execution_count": 13
        },
        {
          "output_type": "display_data",
          "data": {
            "text/plain": [
              "<Figure size 1080x576 with 9 Axes>"
            ],
            "image/png": "[encoded data removed]"
          },
          "metadata": {
            "needs_background": "light"
          }
        }
      ]
    },
    {
      "cell_type": "code",
      "source": [
        "train_data['total_rooms']=np.log(train_data['total_rooms']+1)\n",
        "train_data['total_bedrooms']=np.log(train_data['total_bedrooms']+1)\n",
        "train_data['population']=np.log(train_data['population']+1)\n",
        "train_data['households']=np.log(train_data['households']+1)\n"
      ],
      "metadata": {
        "id": "fMZEHgZHmaBI"
      },
      "execution_count": 14,
      "outputs": []
    },
    {
      "cell_type": "code",
      "source": [
        "train_data.ocean_proximity.value_counts()"
      ],
      "metadata": {
        "id": "2UV5i_eanUEU"
      },
      "execution_count": null,
      "outputs": []
    },
    {
      "cell_type": "code",
      "source": [
        "train_data=train_data.join(pd.get_dummies(train_data.ocean_proximity)).drop(['ocean_proximity'],axis=1)"
      ],
      "metadata": {
        "id": "mGe8oYUdopBp"
      },
      "execution_count": 16,
      "outputs": []
    },
    {
      "cell_type": "code",
      "source": [
        "from seaborn import heatmap\n",
        "from matplotlib import figure\n",
        "plt.figure.Figure(figsize=(15,8))\n",
        "sns.heatmap(train_data.corr(), annot=True, cmap=\"YlGnBu\")"
      ],
      "metadata": {
        "id": "AWOYkhirjUwA"
      },
      "execution_count": null,
      "outputs": []
    },
    {
      "cell_type": "code",
      "source": [
        "plt.figure.Figure(figsize=(15,8))\n",
        "sns.scatterplot(x='latitude',y='longitude',data=train_data,hue='median_house_value',palette='coolwarm')"
      ],
      "metadata": {
        "id": "iaMG9b0hp4EE"
      },
      "execution_count": null,
      "outputs": []
    },
    {
      "cell_type": "code",
      "source": [
        "train_data['bedroom_ratio']=train_data['total_bedrooms']/train_data['total_rooms']\n",
        "train_data['household_rooms']=train_data['total_rooms']/train_data['households']"
      ],
      "metadata": {
        "id": "NqObQbMctsJc"
      },
      "execution_count": 19,
      "outputs": []
    },
    {
      "cell_type": "code",
      "source": [
        "#Getting the score using Linear Regressor ~0.65"
      ],
      "metadata": {
        "id": "qvL6ZxOG-Mnz"
      },
      "execution_count": null,
      "outputs": []
    },
    {
      "cell_type": "code",
      "source": [
        "from sklearn.linear_model import LinearRegression\n",
        "from sklearn.preprocessing import StandardScaler\n",
        " \n",
        "scaler=StandardScaler()\n",
        "\n",
        "x_train, y_train= train_data.drop(['median_house_value'],axis=1) ,train_data['median_house_value']\n",
        "x_train_s=scaler.fit_transform(x_train)\n",
        "\n",
        "reg=LinearRegression()\n",
        "reg.fit(x_train_s,y_train)"
      ],
      "metadata": {
        "colab": {
          "base_uri": "https://localhost:8080/"
        },
        "id": "_Ij2I4DUuoxq",
        "outputId": "128b9f73-2284-4d8d-9a8b-6fb4b3fc8c73"
      },
      "execution_count": 29,
      "outputs": [
        {
          "output_type": "execute_result",
          "data": {
            "text/plain": [
              "LinearRegression()"
            ]
          },
          "metadata": {},
          "execution_count": 29
        }
      ]
    },
    {
      "cell_type": "code",
      "source": [
        "test_data=x_test.join(y_test)\n",
        "\n",
        "test_data['total_rooms']=np.log(test_data['total_rooms']+1)\n",
        "test_data['total_bedrooms']=np.log(test_data['total_bedrooms']+1)\n",
        "test_data['population']=np.log(test_data['population']+1)\n",
        "test_data['households']=np.log(test_data['households']+1)\n",
        "\n",
        "test_data=test_data.join(pd.get_dummies(test_data.ocean_proximity)).drop(['ocean_proximity'],axis=1)\n",
        "\n",
        "test_data['bedroom_ratio']=test_data['total_bedrooms']/test_data['total_rooms']\n",
        "test_data['household_rooms']=test_data['total_rooms']/test_data['households']\n"
      ],
      "metadata": {
        "id": "TgMiwa9ov_nj"
      },
      "execution_count": 23,
      "outputs": []
    },
    {
      "cell_type": "code",
      "source": [
        "x_test, y_test= test_data.drop(['median_house_value'],axis=1) ,test_data['median_house_value']\n"
      ],
      "metadata": {
        "id": "3SxvJ-lrvUm3"
      },
      "execution_count": 24,
      "outputs": []
    },
    {
      "cell_type": "code",
      "source": [
        "x_test_s=scaler.transform(x_test)"
      ],
      "metadata": {
        "id": "rZAGzkOu1Vdf"
      },
      "execution_count": 30,
      "outputs": []
    },
    {
      "cell_type": "code",
      "source": [
        "reg.score(x_test_s,y_test)"
      ],
      "metadata": {
        "id": "cwnmTFFnyFND"
      },
      "execution_count": null,
      "outputs": []
    },
    {
      "cell_type": "code",
      "source": [
        "#getting the score using RandomForestRegressor ~0.81 (Significantly higher)"
      ],
      "metadata": {
        "id": "qC6i5PGI-YEh"
      },
      "execution_count": null,
      "outputs": []
    },
    {
      "cell_type": "code",
      "source": [
        "from sklearn.ensemble import RandomForestRegressor\n",
        "\n",
        "\n",
        "forest=RandomForestRegressor()\n",
        "\n",
        "forest.fit(x_train_s,y_train)"
      ],
      "metadata": {
        "colab": {
          "base_uri": "https://localhost:8080/"
        },
        "id": "WIYSaqdn2W_r",
        "outputId": "12e6aba2-3f2a-4b2d-bb54-871e3bd8d485"
      },
      "execution_count": 35,
      "outputs": [
        {
          "output_type": "execute_result",
          "data": {
            "text/plain": [
              "RandomForestRegressor()"
            ]
          },
          "metadata": {},
          "execution_count": 35
        }
      ]
    },
    {
      "cell_type": "code",
      "source": [
        "forest.score(x_test_s,y_test)"
      ],
      "metadata": {
        "colab": {
          "base_uri": "https://localhost:8080/"
        },
        "id": "qz-gTjK024Kz",
        "outputId": "dedac5ed-35c9-4dc6-a402-5f869cef3d29"
      },
      "execution_count": 36,
      "outputs": [
        {
          "output_type": "execute_result",
          "data": {
            "text/plain": [
              "0.8183580121408415"
            ]
          },
          "metadata": {},
          "execution_count": 36
        }
      ]
    },
    {
      "cell_type": "code",
      "source": [
        "#running model using GridSearch , score ~0.815"
      ],
      "metadata": {
        "id": "g9yAWsYJ-gY_"
      },
      "execution_count": null,
      "outputs": []
    },
    {
      "cell_type": "code",
      "source": [
        "from sklearn.model_selection import GridSearchCV\n",
        "\n",
        "forest=RandomForestRegressor()\n",
        "\n",
        "param_grid={\n",
        "    \"n_estimators\" : [100,200,300],\n",
        "    \"max_features\" : [2,4],\n",
        "    \"max_depth\"    : [None,4,8]\n",
        "    }\n",
        "\n",
        "grid_search = GridSearchCV(forest,param_grid,cv=5,scoring=\"neg_mean_squared_error\",\n",
        "                         return_train_score=True)\n",
        "\n",
        "grid_search.fit(x_train_s,y_train)"
      ],
      "metadata": {
        "colab": {
          "base_uri": "https://localhost:8080/"
        },
        "id": "5VdTcmsR5sY_",
        "outputId": "cd087275-0436-4488-f484-d470ccfb86c0"
      },
      "execution_count": 43,
      "outputs": [
        {
          "output_type": "execute_result",
          "data": {
            "text/plain": [
              "GridSearchCV(cv=5, estimator=RandomForestRegressor(),\n",
              "             param_grid={'max_depth': [None, 4, 8], 'max_features': [2, 4],\n",
              "                         'n_estimators': [100, 200, 300]},\n",
              "             return_train_score=True, scoring='neg_mean_squared_error')"
            ]
          },
          "metadata": {},
          "execution_count": 43
        }
      ]
    },
    {
      "cell_type": "code",
      "source": [
        "best_forest=grid_search.best_estimator_"
      ],
      "metadata": {
        "id": "Gwj2KeUI48Ul"
      },
      "execution_count": 44,
      "outputs": []
    },
    {
      "cell_type": "code",
      "source": [
        "best_forest.score(x_test_s,y_test)"
      ],
      "metadata": {
        "colab": {
          "base_uri": "https://localhost:8080/"
        },
        "id": "tN7q10QC5Cli",
        "outputId": "5be854ff-e385-4cbe-c962-9390b30b019c"
      },
      "execution_count": 45,
      "outputs": [
        {
          "output_type": "execute_result",
          "data": {
            "text/plain": [
              "0.8149265380744317"
            ]
          },
          "metadata": {},
          "execution_count": 45
        }
      ]
    }
  ]
}